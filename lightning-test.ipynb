{
 "cells": [
  {
   "cell_type": "markdown",
   "metadata": {},
   "source": [
    "# Pytorch Lightning Sample Code"
   ]
  },
  {
   "cell_type": "code",
   "execution_count": 1,
   "metadata": {},
   "outputs": [
    {
     "name": "stdout",
     "output_type": "stream",
     "text": [
      "/workspace\n"
     ]
    }
   ],
   "source": [
    "# Jupyter Notebook setup:\n",
    "\n",
    "# change to directory of this file\n",
    "import os\n",
    "os.chdir('/workspace')\n",
    "path = os.getcwd()\n",
    "print(path)"
   ]
  },
  {
   "cell_type": "markdown",
   "metadata": {},
   "source": [
    "## Hyperparameters\n",
    "\n",
    "Use command line `ArgumentParser` with best practices to split into:\n",
    "- Trainer args (accelerator, devices, num_nodes, etc…)\n",
    "- Model specific arguments (layer_dim, num_layers, learning_rate, etc…)\n",
    "- System arguments (data_path, cluster_email, etc…)"
   ]
  },
  {
   "cell_type": "code",
   "execution_count": 2,
   "metadata": {},
   "outputs": [],
   "source": [
    "import argparse\n",
    "from pathlib import Path\n",
    "\n",
    "\n",
    "parser = argparse.ArgumentParser()\n",
    "'''train'''\n",
    "parser.add_argument('--batch_size', type=int, default=32)\n",
    "parser.add_argument('--max_epochs', type=int, default=5)\n",
    "\n",
    "'''model'''\n",
    "parser.add_argument('--learning_rate', type=float, default='1e-3')\n",
    "\n",
    "'''System'''\n",
    "parser.add_argument('--gpus', type=list, default=[0])\n",
    "parser.add_argument('--num_workers', type=int, default=32)\n",
    "parser.add_argument('--seed', type=int, default=42)\n",
    "parser.add_argument('--data_dir', type=Path, default='./data')\n",
    "\n",
    "args = parser.parse_args(args=[]) # Set args=[] when running in Jupyter"
   ]
  },
  {
   "cell_type": "markdown",
   "metadata": {},
   "source": [
    "## Data\n",
    "\n",
    "Use [`LightningDataModule`](https://lightning.ai/docs/pytorch/stable/data/datamodule.html) to collect all data related logic in one place:\n",
    "- Dataset loading\n",
    "- Train/val/test split\n",
    "- Dataloader setup"
   ]
  },
  {
   "cell_type": "code",
   "execution_count": 4,
   "metadata": {},
   "outputs": [],
   "source": [
    "from torch.utils.data import random_split, DataLoader\n",
    "from torch import Generator\n",
    "from torchvision import datasets\n",
    "from torchvision.transforms import ToTensor\n",
    "import lightning as L\n",
    "\n",
    "class FashionMNISTDataModule(L.LightningDataModule):\n",
    "    def __init__(self, data_dir: str = args.data_dir):\n",
    "        super().__init__()\n",
    "        self.data_dir = data_dir\n",
    "        \n",
    "    # called only within a single process on CPU\n",
    "    def prepare_data(self):\n",
    "        # download\n",
    "        datasets.FashionMNIST(\n",
    "            root=args.data_dir,\n",
    "            train=True,\n",
    "            download=True,\n",
    "        )\n",
    "        datasets.FashionMNIST(\n",
    "            root=args.data_dir,\n",
    "            train=False,\n",
    "            download=True,\n",
    "        )\n",
    "\n",
    "    # run on each GPU\n",
    "    def setup(self, stage: str):\n",
    "        # Assign train/val datasets for use in dataloaders\n",
    "        if stage == \"fit\":\n",
    "            dataset = datasets.FashionMNIST(\n",
    "                root=args.data_dir,\n",
    "                train=True,\n",
    "                transform=ToTensor(),\n",
    "            )\n",
    "            self.dataset_train, self.dataset_val = random_split(dataset, [50000, 10000])\n",
    "\n",
    "        # Assign test dataset for use in dataloader(s)\n",
    "        if stage == \"test\":\n",
    "            self.dataset_test = datasets.FashionMNIST(\n",
    "                root=args.data_dir,\n",
    "                train=False,\n",
    "                transform=ToTensor(),\n",
    "            )\n",
    "\n",
    "\n",
    "\n",
    "    def train_dataloader(self):\n",
    "        return DataLoader(self.dataset_train, batch_size=args.batch_size, num_workers=args.num_workers)\n",
    "\n",
    "    def val_dataloader(self):\n",
    "        return DataLoader(self.dataset_val, batch_size=args.batch_size, num_workers=args.num_workers)\n",
    "\n",
    "    def test_dataloader(self):\n",
    "        return DataLoader(self.dataset_test, batch_size=args.batch_size, num_workers=args.num_workers)\n",
    "\n",
    "datamodule = FashionMNISTDataModule()"
   ]
  },
  {
   "cell_type": "markdown",
   "metadata": {},
   "source": [
    "## Model\n",
    "\n",
    "Use [`LightningModule`](https://lightning.ai/docs/pytorch/stable/common/lightning_module.html) to organise all model related logic:\n",
    "- Model definition (`__init__()`)\n",
    "- Train Loop (`training_step()`)\n",
    "- Validation Loop (`validation_step()`)\n",
    "- Test Loop (`test_step()`)\n",
    "- Configure optimizers (`configure_optimizers()`)"
   ]
  },
  {
   "cell_type": "code",
   "execution_count": 18,
   "metadata": {},
   "outputs": [],
   "source": [
    "import torch.nn as nn\n",
    "import torch.optim as optim\n",
    "import lightning as L\n",
    "import torchmetrics\n",
    "\n",
    "class NeuralNetwork(L.LightningModule):\n",
    "    def __init__(self):\n",
    "        super().__init__()\n",
    "        # save hyperparameters\n",
    "        self.save_hyperparameters(args)\n",
    "        self.accuracy = torchmetrics.Accuracy(task='multiclass', num_classes=10)\n",
    "        self.flatten = nn.Flatten()\n",
    "        self.linear_relu_stack = nn.Sequential(\n",
    "            nn.Linear(28*28, 512),\n",
    "            nn.ReLU(),\n",
    "            nn.Linear(512, 512),\n",
    "            nn.ReLU(),\n",
    "            nn.Linear(512, 10)\n",
    "        )\n",
    "\n",
    "    def forward(self, x):\n",
    "        x = self.flatten(x)\n",
    "        logits = self.linear_relu_stack(x)\n",
    "        return logits\n",
    "    \n",
    "    def training_step(self, batch, batch_idx):\n",
    "        x, y = batch\n",
    "        logits = self(x)\n",
    "        loss = nn.functional.cross_entropy(logits, y)\n",
    "        self.log('train_loss', loss)\n",
    "        return loss\n",
    "    \n",
    "    def validation_step(self, batch, batch_idx):\n",
    "        x, y = batch\n",
    "        logits = self(x)\n",
    "        loss = nn.functional.cross_entropy(logits, y)\n",
    "        self.log('val_loss', loss)\n",
    "        # log step metric\n",
    "        self.accuracy(logits, y)\n",
    "        self.log(\"val_acc\", self.accuracy, on_epoch=True)\n",
    "        return loss\n",
    "    \n",
    "    def test_step(self, batch, batch_idx):\n",
    "        x, y = batch\n",
    "        logits = self(x)\n",
    "        loss = nn.functional.cross_entropy(logits, y)\n",
    "        self.log('test_loss', loss)\n",
    "        self.accuracy(logits, y)\n",
    "        self.log(\"test_acc\", self.accuracy, on_epoch=True)\n",
    "        return loss\n",
    "    \n",
    "    def configure_optimizers(self):\n",
    "        return optim.SGD(self.parameters(), lr=args.learning_rate)\n",
    "    \n",
    "model = NeuralNetwork()\n"
   ]
  },
  {
   "cell_type": "markdown",
   "metadata": {},
   "source": [
    "## Train Neural Network\n",
    "\n",
    "The [`Trainer`](https://lightning.ai/docs/pytorch/stable/common/trainer.html) automates training."
   ]
  },
  {
   "cell_type": "code",
   "execution_count": 19,
   "metadata": {},
   "outputs": [
    {
     "name": "stderr",
     "output_type": "stream",
     "text": [
      "GPU available: True (cuda), used: True\n",
      "TPU available: False, using: 0 TPU cores\n",
      "IPU available: False, using: 0 IPUs\n",
      "HPU available: False, using: 0 HPUs\n"
     ]
    },
    {
     "name": "stderr",
     "output_type": "stream",
     "text": [
      "LOCAL_RANK: 0 - CUDA_VISIBLE_DEVICES: [0,1,2]\n",
      "\n",
      "  | Name              | Type               | Params\n",
      "---------------------------------------------------------\n",
      "0 | accuracy          | MulticlassAccuracy | 0     \n",
      "1 | flatten           | Flatten            | 0     \n",
      "2 | linear_relu_stack | Sequential         | 669 K \n",
      "---------------------------------------------------------\n",
      "669 K     Trainable params\n",
      "0         Non-trainable params\n",
      "669 K     Total params\n",
      "2.679     Total estimated model params size (MB)\n"
     ]
    },
    {
     "name": "stdout",
     "output_type": "stream",
     "text": [
      "Epoch 4: 100%|██████████| 1563/1563 [00:16<00:00, 92.82it/s, v_num=34]      "
     ]
    },
    {
     "name": "stderr",
     "output_type": "stream",
     "text": [
      "`Trainer.fit` stopped: `max_epochs=5` reached.\n"
     ]
    },
    {
     "name": "stdout",
     "output_type": "stream",
     "text": [
      "Epoch 4: 100%|██████████| 1563/1563 [00:16<00:00, 92.72it/s, v_num=34]\n"
     ]
    }
   ],
   "source": [
    "from lightning import Trainer\n",
    "\n",
    "\n",
    "trainer = L.Trainer(max_epochs=args.max_epochs, accelerator='gpu', devices=args.gpus) # set devices to a list of GPU ids to train on\n",
    "# start training \n",
    "trainer.fit(model, datamodule=datamodule)"
   ]
  },
  {
   "cell_type": "markdown",
   "metadata": {},
   "source": [
    "## Test Neural Network"
   ]
  },
  {
   "cell_type": "code",
   "execution_count": 7,
   "metadata": {},
   "outputs": [
    {
     "name": "stderr",
     "output_type": "stream",
     "text": [
      "LOCAL_RANK: 0 - CUDA_VISIBLE_DEVICES: [0,1,2]\n"
     ]
    },
    {
     "name": "stdout",
     "output_type": "stream",
     "text": [
      "Testing DataLoader 0: 100%|██████████| 313/313 [00:01<00:00, 284.29it/s]\n"
     ]
    },
    {
     "data": {
      "text/html": [
       "<pre style=\"white-space:pre;overflow-x:auto;line-height:normal;font-family:Menlo,'DejaVu Sans Mono',consolas,'Courier New',monospace\">┏━━━━━━━━━━━━━━━━━━━━━━━━━━━┳━━━━━━━━━━━━━━━━━━━━━━━━━━━┓\n",
       "┃<span style=\"font-weight: bold\">        Test metric        </span>┃<span style=\"font-weight: bold\">       DataLoader 0        </span>┃\n",
       "┡━━━━━━━━━━━━━━━━━━━━━━━━━━━╇━━━━━━━━━━━━━━━━━━━━━━━━━━━┩\n",
       "│<span style=\"color: #008080; text-decoration-color: #008080\">         test_loss         </span>│<span style=\"color: #800080; text-decoration-color: #800080\">    0.8456433415412903     </span>│\n",
       "└───────────────────────────┴───────────────────────────┘\n",
       "</pre>\n"
      ],
      "text/plain": [
       "┏━━━━━━━━━━━━━━━━━━━━━━━━━━━┳━━━━━━━━━━━━━━━━━━━━━━━━━━━┓\n",
       "┃\u001b[1m \u001b[0m\u001b[1m       Test metric       \u001b[0m\u001b[1m \u001b[0m┃\u001b[1m \u001b[0m\u001b[1m      DataLoader 0       \u001b[0m\u001b[1m \u001b[0m┃\n",
       "┡━━━━━━━━━━━━━━━━━━━━━━━━━━━╇━━━━━━━━━━━━━━━━━━━━━━━━━━━┩\n",
       "│\u001b[36m \u001b[0m\u001b[36m        test_loss        \u001b[0m\u001b[36m \u001b[0m│\u001b[35m \u001b[0m\u001b[35m   0.8456433415412903    \u001b[0m\u001b[35m \u001b[0m│\n",
       "└───────────────────────────┴───────────────────────────┘\n"
      ]
     },
     "metadata": {},
     "output_type": "display_data"
    },
    {
     "data": {
      "text/plain": [
       "[{'test_loss': 0.8456433415412903}]"
      ]
     },
     "execution_count": 7,
     "metadata": {},
     "output_type": "execute_result"
    }
   ],
   "source": [
    "trainer.test(model, datamodule=datamodule)"
   ]
  },
  {
   "cell_type": "markdown",
   "metadata": {},
   "source": [
    "## Inference"
   ]
  },
  {
   "cell_type": "code",
   "execution_count": 68,
   "metadata": {},
   "outputs": [
    {
     "name": "stdout",
     "output_type": "stream",
     "text": [
      "Predicted: \"Ankle boot\", Actual: \"Ankle boot\"\n"
     ]
    }
   ],
   "source": [
    "# get sample from validation set\n",
    "x, y = next(iter(datamodule.test_dataloader()))\n",
    "# get prediction\n",
    "pred = model(x[0])\n",
    "\n",
    "classes = [\n",
    "    \"T-shirt/top\",\n",
    "    \"Trouser\",\n",
    "    \"Pullover\",\n",
    "    \"Dress\",\n",
    "    \"Coat\",\n",
    "    \"Sandal\",\n",
    "    \"Shirt\",\n",
    "    \"Sneaker\",\n",
    "    \"Bag\",\n",
    "    \"Ankle boot\",\n",
    "]\n",
    "predicted, actual = classes[pred[0].argmax(0).item()], classes[y[0]]\n",
    "print(f'Predicted: \"{predicted}\", Actual: \"{actual}\"')"
   ]
  }
 ],
 "metadata": {
  "kernelspec": {
   "display_name": "e2e-audioclassfication-xS3fZVNL-py3.8",
   "language": "python",
   "name": "python3"
  },
  "language_info": {
   "codemirror_mode": {
    "name": "ipython",
    "version": 3
   },
   "file_extension": ".py",
   "mimetype": "text/x-python",
   "name": "python",
   "nbconvert_exporter": "python",
   "pygments_lexer": "ipython3",
   "version": "3.9.17"
  },
  "orig_nbformat": 4
 },
 "nbformat": 4,
 "nbformat_minor": 2
}
